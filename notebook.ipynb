{
 "cells": [
  {
   "cell_type": "markdown",
   "id": "686bfafc",
   "metadata": {
    "vscode": {
     "languageId": "plaintext"
    }
   },
   "source": [
    "# Assistant de recherche et de synthèse d'articles scientifiques"
   ]
  },
  {
   "cell_type": "markdown",
   "id": "846566e8",
   "metadata": {},
   "source": [
    "L’objectif de ce projet est de concevoir un assistant capable d’effectuer des recherches sur des articles scientifiques, en identifiant les publications les plus pertinentes, puis en générant une synthèse de chacun d’eux afin de fournir une réponse claire et structurée.\n"
   ]
  },
  {
   "cell_type": "code",
   "execution_count": 11,
   "id": "3a482035",
   "metadata": {},
   "outputs": [],
   "source": [
    "from langchain_groq import ChatGroq\n",
    "from langchain_core.messages import HumanMessage, AIMessage, SystemMessage, AnyMessage\n",
    "from langgraph.graph import StateGraph, START, END\n",
    "from langchain_core.tools import tool\n",
    "from langgraph.prebuilt import ToolNode\n",
    "from langchain_tavily import TavilySearch\n",
    "from langchain_community.retrievers import ArxivRetriever\n",
    "from langchain_community.retrievers import PubMedRetriever\n",
    "from typing import List, TypedDict, Annotated\n",
    "import operator\n",
    "import os\n",
    "from dotenv import load_dotenv\n"
   ]
  },
  {
   "cell_type": "code",
   "execution_count": 30,
   "id": "cffe240f",
   "metadata": {},
   "outputs": [],
   "source": [
    "load_dotenv()\n",
    "TAVILY_API_KEY = os.getenv(\"TAVILY_API_KEY\")\n",
    "KEY_API= os.getenv(\"GROQ_API_KEY\")"
   ]
  },
  {
   "cell_type": "code",
   "execution_count": 31,
   "id": "e409c934",
   "metadata": {},
   "outputs": [],
   "source": [
    "llm = ChatGroq(model = \"llama-3.3-70b-versatile\", temperature=0)"
   ]
  },
  {
   "cell_type": "code",
   "execution_count": null,
   "id": "882f23d5",
   "metadata": {},
   "outputs": [],
   "source": [
    "class AgentState(TypedDict):\n",
    "\n",
    "    messages: Annotated[List[AnyMessage], operator.add]\n",
    "\n",
    "@tool\n",
    "def tavily(message):\n",
    "    \"\"\"Moteur de recherche en ligne en temps réel\n",
    "    \n",
    "    Args:\n",
    "       message: la requête de l'utilisateur\"\"\"\n",
    "    \n",
    "    tavily = TavilySearch(max_results = 5, topic = \"science\")\n",
    "\n",
    "    return tavily.invoke({\"query\": message})\n",
    "\n",
    "@tool\n",
    "def arxiv(message):\n",
    "    \"\"\"Acceder à des articles dans le domaine de la science\n",
    "    \n",
    "    Args:\n",
    "       message: la requête de l'utilisateur\n",
    "    \"\"\"\n",
    "\n",
    "    arxiv = ArxivRetriever(\n",
    "    load_max_docs=5,\n",
    "    get_ful_documents=True)\n",
    "\n",
    "    return arxiv.invoke(message)\n",
    "\n",
    "@tool \n",
    "def pubmed(message):\n",
    "    \"\"\"Accéder à des citations dans le domaine de la medecine\n",
    "    \n",
    "    Args: \n",
    "       message: la requête de l'utilisateur\"\"\"\n",
    "    \n",
    "    pubmed = PubMedRetriever()\n",
    "\n",
    "    return pubmed.invoke(message)\n",
    "    \n",
    "tools = [tavily, arxiv, pubmed]\n",
    "\n",
    "llm_with_tools = llm.bind_tools(tools)"
   ]
  }
 ],
 "metadata": {
  "kernelspec": {
   "display_name": ".venv",
   "language": "python",
   "name": "python3"
  },
  "language_info": {
   "codemirror_mode": {
    "name": "ipython",
    "version": 3
   },
   "file_extension": ".py",
   "mimetype": "text/x-python",
   "name": "python",
   "nbconvert_exporter": "python",
   "pygments_lexer": "ipython3",
   "version": "3.12.7"
  }
 },
 "nbformat": 4,
 "nbformat_minor": 5
}
